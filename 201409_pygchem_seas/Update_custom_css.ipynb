{
 "metadata": {
  "name": "",
  "signature": "sha256:c685807b5bf94cd87589957654e6fdaca5b704b7a0539eb03925c9406c5e676b"
 },
 "nbformat": 3,
 "nbformat_minor": 0,
 "worksheets": [
  {
   "cells": [
    {
     "cell_type": "code",
     "collapsed": false,
     "input": [
      "from IPython.utils.path import get_ipython_dir\n",
      "import os"
     ],
     "language": "python",
     "metadata": {},
     "outputs": [],
     "prompt_number": 3
    },
    {
     "cell_type": "code",
     "collapsed": false,
     "input": [
      "profile_dir = os.path.join(get_ipython_dir(), \"profile_rise\", \"static\", \"custom\")\n",
      "%cd {profile_dir}"
     ],
     "language": "python",
     "metadata": {},
     "outputs": [
      {
       "output_type": "stream",
       "stream": "stdout",
       "text": [
        "/home/benbovy/.ipython/profile_rise/static/custom\n"
       ]
      }
     ],
     "prompt_number": 4
    },
    {
     "cell_type": "code",
     "collapsed": false,
     "input": [
      "%load custom.css"
     ],
     "language": "python",
     "metadata": {},
     "outputs": [],
     "prompt_number": 15
    },
    {
     "cell_type": "code",
     "collapsed": false,
     "input": [
      "%%writefile custom.css\n",
      "/*\n",
      "Placeholder for custom user CSS\n",
      "\n",
      "mainly to be overridden in profile/static/custom/custom.css\n",
      "\n",
      "This will always be an empty file in IPython\n",
      "*/\n",
      "\n",
      ".mytag {\n",
      "    font-family: Helvetica, Arial, sans-serif;\n",
      "    /*font-size: small;*/\n",
      "    background: #80b1d3;\n",
      "    display: inline-block;\n",
      "    color: #fff;\n",
      "    position: relative;\n",
      "    padding: 0 8px 0 10px;\n",
      "    /*border-top-right-radius: 4px;\n",
      "    border-bottom-right-radius: 4px;*/\n",
      "    border-radius: 4px;\n",
      "    margin: 0 0 0 15px;\n",
      "    text-decoration: none;\n",
      "}\n",
      "\n",
      "/*.mytag:before {\n",
      "    display: inline-block;\n",
      "    border-top: 10px solid transparent;\n",
      "    border-bottom: 10px solid transparent;\n",
      "    border-right: 10px solid #80b1d3; \n",
      "    height: 0;\n",
      "    width: 0;\n",
      "    position: absolute;\n",
      "    left: -10px;\n",
      "    top: 0;\n",
      "    content: \"\";\n",
      "    display: inline-block;\n",
      "}*/\n",
      "\n",
      ".mytag:before {\n",
      "    background: #fff;\n",
      "    width: 10px;\n",
      "    height: 10px;\n",
      "    content: \"\";\n",
      "    display: inline-block;\n",
      "    border-radius: 20px;\n",
      "    margin: 0 8px 0 0;\n",
      "}\n",
      "    \n",
      ".barred-tag {\n",
      "    text-decoration: line-through;\n",
      "}\n",
      "\n",
      ".orange-tag {\n",
      "    background: #fdb462;  \n",
      "}\n",
      "/*.orange-tag:before {\n",
      "    border-right: 10px solid #fdb462;\n",
      "}*/\n",
      "\n",
      ".green-tag {\n",
      "    background: #8dd3c7;\n",
      "}\n",
      "/*.green-tag:before {\n",
      "    border-right: 10px solid #8dd3c7;\n",
      "}*/\n",
      "\n",
      ".violet-tag {\n",
      "    background: #bebada;\n",
      "}\n",
      "/*.violet-tag:before {\n",
      "    border-right: 10px solid #bebada;\n",
      "}*/\n",
      "\n",
      ".red-tag {\n",
      "    background: #fb8072;\n",
      "}\n",
      "/*.red-tag:before {\n",
      "    border-right: 10px solid #fb8072;\n",
      "}*/\n",
      "\n",
      ".green2-tag {\n",
      "    background: #a3ce59;\n",
      "}\n",
      "/*.green2-tag:before {\n",
      "    border-right: 10px solid #a3ce59;\n",
      "}*/\n"
     ],
     "language": "python",
     "metadata": {},
     "outputs": [
      {
       "output_type": "stream",
       "stream": "stdout",
       "text": [
        "Overwriting custom.css\n"
       ]
      }
     ],
     "prompt_number": 15
    },
    {
     "cell_type": "code",
     "collapsed": false,
     "input": [],
     "language": "python",
     "metadata": {},
     "outputs": []
    }
   ],
   "metadata": {}
  }
 ]
}