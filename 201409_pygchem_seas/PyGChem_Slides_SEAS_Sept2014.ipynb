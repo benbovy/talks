{
 "metadata": {
  "name": "",
  "signature": "sha256:a0b07a2fdb42bf6c7a6a8df277537ab9e2fb1f119f04be56a884587cac472e12"
 },
 "nbformat": 3,
 "nbformat_minor": 0,
 "worksheets": [
  {
   "cells": [
    {
     "cell_type": "markdown",
     "metadata": {
      "internals": {
       "slide_helper": "subslide_end",
       "slide_type": "subslide"
      },
      "slide_helper": "slide_end",
      "slideshow": {
       "slide_type": "slide"
      }
     },
     "source": [
      "# PyGChem\n",
      "\n",
      "## A tentative brigde between GEOS-Chem and the Python Scientific (SciPy) Stack.\n",
      "\n",
      "Beno\u00eet Bovy -- GIRPAS (AGO) Universit\u00e9 de Li\u00e8ge\n",
      "\n",
      "<bbovy@ulg.ac.be> | <https://github.com/benbovy>\n",
      "\n",
      "---------------------------------------\n",
      "\n",
      "SEAS - Harvard (September 2014)"
     ]
    },
    {
     "cell_type": "markdown",
     "metadata": {
      "internals": {
       "slide_type": "subslide"
      },
      "slideshow": {
       "slide_type": "slide"
      }
     },
     "source": [
      "## About myself...\n",
      "\n",
      "- PhD in geosciences (geomorphology)\n",
      "    - Numerical modelling of erosion processes (C/Python dev)\n",
      "- Since 2012 at the InfraRed Group of Atmospheric and Solar Physics (GIRPAS)\n",
      "    - At the same time, the group joined the GC community\n",
      "- Part of my job:\n",
      "    - Set up a computing environment for the modelling tasks\n",
      "    - Facilitating the integration and the use of various softwares (including GC) "
     ]
    },
    {
     "cell_type": "markdown",
     "metadata": {
      "internals": {
       "frag_number": 2,
       "slide_helper": "subslide_end"
      },
      "slide_helper": "slide_end",
      "slideshow": {
       "slide_type": "fragment"
      }
     },
     "source": [
      "<br />\n",
      "<font color='red'>**DISCLAIMER**</font>:\n",
      "- I don't have much experience in running GC simulations (so far)\n",
      "- I'm not a specialist in the field of atmospheric chemistry (so far)\n",
      "- I use Python (and its scientific libraries) a lot in my research"
     ]
    },
    {
     "cell_type": "markdown",
     "metadata": {
      "internals": {
       "frag_helper": "fragment_end",
       "frag_number": 2,
       "slide_helper": "subslide_end",
       "slide_type": "subslide"
      },
      "slide_helper": "subslide_end",
      "slideshow": {
       "slide_type": "slide"
      }
     },
     "source": [
      "## Interacting with GEOS-Chem\n",
      "\n",
      "<br />\n",
      "\n",
      "   \n",
      "![Interact-img](img/GC-interaction.jpg)"
     ]
    },
    {
     "cell_type": "markdown",
     "metadata": {
      "internals": {
       "frag_helper": "fragment_end",
       "frag_number": 2,
       "slide_type": "subslide"
      },
      "slideshow": {
       "slide_type": "subslide"
      }
     },
     "source": [
      "### GC user-interface: for what purposes?"
     ]
    },
    {
     "cell_type": "markdown",
     "metadata": {
      "internals": {
       "frag_helper": "fragment_end",
       "frag_number": 5
      },
      "slideshow": {
       "slide_type": "fragment"
      }
     },
     "source": [
      "- Pre/post processing, format conversion, output analysis"
     ]
    },
    {
     "cell_type": "markdown",
     "metadata": {
      "internals": {
       "frag_helper": "fragment_end",
       "frag_number": 6
      },
      "slideshow": {
       "slide_type": "fragment"
      }
     },
     "source": [
      "- Visualization"
     ]
    },
    {
     "cell_type": "markdown",
     "metadata": {
      "internals": {
       "frag_helper": "fragment_end",
       "frag_number": 7
      },
      "slideshow": {
       "slide_type": "fragment"
      }
     },
     "source": [
      "- Run / manage GC simulations"
     ]
    },
    {
     "cell_type": "markdown",
     "metadata": {
      "internals": {
       "frag_helper": "fragment_end",
       "frag_number": 8
      },
      "slideshow": {
       "slide_type": "fragment"
      }
     },
     "source": [
      "- Model development: prototyping, testing"
     ]
    },
    {
     "cell_type": "markdown",
     "metadata": {
      "internals": {
       "frag_helper": "fragment_end",
       "frag_number": 9
      },
      "slideshow": {
       "slide_type": "fragment"
      }
     },
     "source": [
      "- Interfacing with other codes (models, libraries, applications...)"
     ]
    },
    {
     "cell_type": "markdown",
     "metadata": {
      "internals": {
       "frag_helper": "fragment_end",
       "frag_number": 10,
       "slide_helper": "subslide_end"
      },
      "slide_helper": "subslide_end",
      "slideshow": {
       "slide_type": "fragment"
      }
     },
     "source": [
      "- ..."
     ]
    },
    {
     "cell_type": "markdown",
     "metadata": {
      "internals": {
       "frag_helper": "fragment_end",
       "frag_number": 10,
       "slide_type": "subslide"
      },
      "slideshow": {
       "slide_type": "subslide"
      }
     },
     "source": [
      "### GC user-interface: what matters (ideally)?"
     ]
    },
    {
     "cell_type": "markdown",
     "metadata": {
      "internals": {
       "frag_helper": "fragment_end",
       "frag_number": 12
      },
      "slideshow": {
       "slide_type": "fragment"
      }
     },
     "source": [
      "- Interactivity <span class=\"mytag\">interactive</span>"
     ]
    },
    {
     "cell_type": "markdown",
     "metadata": {
      "internals": {
       "frag_helper": "fragment_end",
       "frag_number": 13
      },
      "slideshow": {
       "slide_type": "fragment"
      }
     },
     "source": [
      "- Richness of the computing environment <span class='mytag orange-tag'>features</span>"
     ]
    },
    {
     "cell_type": "markdown",
     "metadata": {
      "internals": {
       "frag_helper": "fragment_end",
       "frag_number": 14
      },
      "slideshow": {
       "slide_type": "fragment"
      }
     },
     "source": [
      "- Ease-of-use, less error-prone <span class='mytag green-tag'>user-friendly</span>"
     ]
    },
    {
     "cell_type": "markdown",
     "metadata": {
      "internals": {
       "frag_helper": "fragment_end",
       "frag_number": 15
      },
      "slideshow": {
       "slide_type": "fragment"
      }
     },
     "source": [
      "- Public availability <span class='mytag violet-tag'>availability</span>"
     ]
    },
    {
     "cell_type": "markdown",
     "metadata": {
      "internals": {
       "frag_helper": "fragment_end",
       "frag_number": 16
      },
      "slideshow": {
       "slide_type": "fragment"
      }
     },
     "source": [
      "- Hardware / Platform availability <span class='mytag violet-tag'>availability</span>"
     ]
    },
    {
     "cell_type": "markdown",
     "metadata": {
      "internals": {
       "frag_helper": "fragment_end",
       "frag_number": 17
      },
      "slideshow": {
       "slide_type": "fragment"
      }
     },
     "source": [
      "- Interaction with the GC community <span class='mytag red-tag'>collaboration</span>"
     ]
    },
    {
     "cell_type": "markdown",
     "metadata": {
      "internals": {
       "frag_helper": "fragment_end",
       "frag_number": 18
      },
      "slideshow": {
       "slide_type": "fragment"
      }
     },
     "source": [
      "- Reproducible experiments <span class='mytag green2-tag'>reproducibility</span>"
     ]
    },
    {
     "cell_type": "markdown",
     "metadata": {
      "internals": {
       "frag_helper": "fragment_end",
       "frag_number": 19
      },
      "slideshow": {
       "slide_type": "fragment"
      }
     },
     "source": [
      "- Reliability <span class='mytag orange-tag'>maturity</span>"
     ]
    },
    {
     "cell_type": "markdown",
     "metadata": {
      "internals": {
       "frag_helper": "fragment_end",
       "frag_number": 20,
       "slide_helper": "subslide_end"
      },
      "slide_helper": "subslide_end",
      "slideshow": {
       "slide_type": "fragment"
      }
     },
     "source": [
      "- Dealing with big amounts of data <span class='mytag green-tag'>parallel</span>"
     ]
    },
    {
     "cell_type": "markdown",
     "metadata": {
      "internals": {
       "frag_helper": "fragment_end",
       "frag_number": 20,
       "slide_type": "subslide"
      },
      "slideshow": {
       "slide_type": "subslide"
      }
     },
     "source": [
      "### GC user-interface: Existing tools"
     ]
    },
    {
     "cell_type": "markdown",
     "metadata": {
      "internals": {
       "frag_helper": "fragment_end",
       "frag_number": 22
      },
      "slideshow": {
       "slide_type": "fragment"
      }
     },
     "source": [
      "Referenced on the [GEOS-Chem wiki](http://wiki.seas.harvard.edu/geos-chem/index.php/Main_Page):\n",
      "\n",
      "- IDL: GAMAP  <span class='mytag orange-tag'>maturity</span> <span class='mytag orange-tag'>features</span> <span class='mytag green-tag'>user-friendly</span> <span class='mytag violet-tag barred-tag'>availability</span> \n",
      "- NCL: NC4GC\n",
      "- R: a few scripts for dataset analysis\n",
      "- Python: a few packages (mainly for reading bpch files)"
     ]
    },
    {
     "cell_type": "markdown",
     "metadata": {
      "internals": {
       "frag_helper": "fragment_end",
       "frag_number": 23,
       "slide_helper": "subslide_end"
      },
      "slide_helper": "slide_end",
      "slideshow": {
       "slide_type": "fragment"
      }
     },
     "source": [
      "And also:\n",
      "\n",
      "- IDL, R, Matlab, Python, etc...: GC community researchers's own recipes <span class='mytag green2-tag barred-tag'>reproducibility</span> <span class='mytag red-tag barred-tag'>collaboration</span>"
     ]
    },
    {
     "cell_type": "markdown",
     "metadata": {
      "internals": {
       "frag_helper": "fragment_end",
       "frag_number": 23,
       "slide_helper": "subslide_end",
       "slide_type": "subslide"
      },
      "slide_helper": "subslide_end",
      "slideshow": {
       "slide_type": "slide"
      }
     },
     "source": [
      "## The Python Scientific (SciPy) Stack\n",
      "   \n",
      "![scipy_stack](img/scipy_stack01.svg)"
     ]
    },
    {
     "cell_type": "markdown",
     "metadata": {
      "internals": {
       "frag_helper": "fragment_end",
       "frag_number": 23,
       "slide_type": "subslide"
      },
      "slideshow": {
       "slide_type": "subslide"
      }
     },
     "source": [
      "### The Python language (and the CPython implementation)"
     ]
    },
    {
     "cell_type": "markdown",
     "metadata": {
      "internals": {
       "frag_helper": "fragment_end",
       "frag_number": 26
      },
      "slideshow": {
       "slide_type": "fragment"
      }
     },
     "source": [
      "- Open-source, cross-platform  <span class='mytag violet-tag'>availability</span>"
     ]
    },
    {
     "cell_type": "markdown",
     "metadata": {
      "internals": {
       "frag_helper": "fragment_end",
       "frag_number": 27
      },
      "slideshow": {
       "slide_type": "fragment"
      }
     },
     "source": [
      "- Language inherent characteristics <span class='mytag green-tag'>user-friendly</span> <span class=\"mytag\">interactive</span>\n",
      "    - Readability, introspection, multi-paradigm..."
     ]
    },
    {
     "cell_type": "markdown",
     "metadata": {
      "internals": {
       "frag_helper": "fragment_end",
       "frag_number": 28
      },
      "slideshow": {
       "slide_type": "fragment"
      }
     },
     "source": [
      "- Integrates well with other languages (C/C++, Fortran...)"
     ]
    },
    {
     "cell_type": "markdown",
     "metadata": {
      "internals": {
       "frag_helper": "fragment_end",
       "frag_number": 29
      },
      "slideshow": {
       "slide_type": "fragment"
      }
     },
     "source": [
      "- Includes natively a huge number of libraries <span class='mytag orange-tag'>features</span>\n",
      "    - OS, network, web, testing, debugging, profiling, file formats..."
     ]
    },
    {
     "cell_type": "markdown",
     "metadata": {
      "internals": {
       "frag_helper": "fragment_end",
       "frag_number": 30,
       "slide_helper": "subslide_end"
      },
      "slide_helper": "subslide_end",
      "slideshow": {
       "slide_type": "fragment"
      }
     },
     "source": [
      "- Very active, growing scientific community <span class='mytag orange-tag'>features</span> <span class='mytag red-tag'>collaboration</span>"
     ]
    },
    {
     "cell_type": "markdown",
     "metadata": {
      "internals": {
       "frag_helper": "fragment_end",
       "frag_number": 30,
       "slide_helper": "subslide_end",
       "slide_type": "subslide"
      },
      "slide_helper": "subslide_end",
      "slideshow": {
       "slide_type": "subslide"
      }
     },
     "source": [
      "### The SciPy Stack\n",
      "\n",
      "![scipy_stack_classification](img/scipy_stack02b.svg)"
     ]
    },
    {
     "cell_type": "markdown",
     "metadata": {
      "internals": {
       "frag_helper": "fragment_end",
       "frag_number": 30,
       "slide_type": "subslide"
      },
      "slideshow": {
       "slide_type": "subslide"
      }
     },
     "source": [
      "### The SciPy Stack\n",
      "\n",
      "![scipy_stack_classification](img/scipy_stack03.svg)"
     ]
    },
    {
     "cell_type": "markdown",
     "metadata": {
      "internals": {
       "frag_helper": "fragment_end",
       "frag_number": 33
      },
      "slideshow": {
       "slide_type": "fragment"
      }
     },
     "source": [
      "- Dependencies <span class='mytag green-tag'>user-friendly ??</span> <span class='mytag green2-tag'>reproducibility ??</span>\n",
      "    - but recent solutions..."
     ]
    },
    {
     "cell_type": "markdown",
     "metadata": {
      "internals": {
       "frag_helper": "fragment_end",
       "frag_number": 34,
       "slide_helper": "subslide_end"
      },
      "slide_helper": "subslide_end",
      "slideshow": {
       "slide_type": "fragment"
      }
     },
     "source": [
      "- A lot of new packages in development <span class='mytag orange-tag'>maturity ??</span>"
     ]
    },
    {
     "cell_type": "markdown",
     "metadata": {
      "internals": {
       "frag_helper": "fragment_end",
       "frag_number": 34,
       "slide_type": "subslide"
      },
      "slideshow": {
       "slide_type": "subslide"
      }
     },
     "source": [
      "### Packages specific to the atmospheric sciences community"
     ]
    },
    {
     "cell_type": "markdown",
     "metadata": {
      "internals": {
       "frag_helper": "fragment_end",
       "frag_number": 36
      },
      "slideshow": {
       "slide_type": "fragment"
      }
     },
     "source": [
      "- UV-CDAT (<http://uvcdat.llnl.gov/>)\n",
      "    - Software bundle (visualization and data analysis)"
     ]
    },
    {
     "cell_type": "markdown",
     "metadata": {
      "internals": {
       "frag_helper": "fragment_end",
       "frag_number": 37
      },
      "slideshow": {
       "slide_type": "fragment"
      }
     },
     "source": [
      "- Iris (<http://scitools.org.uk/iris/>)\n",
      "    - Data abstraction layer based on the CF-Conventions"
     ]
    },
    {
     "cell_type": "markdown",
     "metadata": {
      "internals": {
       "frag_helper": "fragment_end",
       "frag_number": 38
      },
      "slideshow": {
       "slide_type": "fragment"
      }
     },
     "source": [
      "- cf-python (http://cfpython.bitbucket.org/)\n",
      "    - Similar to Iris"
     ]
    },
    {
     "cell_type": "markdown",
     "metadata": {
      "internals": {
       "frag_helper": "fragment_end",
       "frag_number": 39
      },
      "slideshow": {
       "slide_type": "fragment"
      }
     },
     "source": [
      "- ESMPy (<https://www.earthsystemcog.org/projects/esmpy/>)\n",
      "    - Python interface to ESMF (in development)"
     ]
    },
    {
     "cell_type": "markdown",
     "metadata": {
      "internals": {
       "frag_helper": "fragment_end",
       "frag_number": 40,
       "slide_helper": "subslide_end"
      },
      "slide_helper": "slide_end",
      "slideshow": {
       "slide_type": "fragment"
      }
     },
     "source": [
      "- OpenClimateGis (<https://www.earthsystemcog.org/projects/openclimategis/>)\n",
      "    - Geospatial manipulation of climate datasets"
     ]
    },
    {
     "cell_type": "markdown",
     "metadata": {
      "internals": {
       "frag_helper": "fragment_end",
       "frag_number": 40,
       "slide_type": "subslide"
      },
      "slideshow": {
       "slide_type": "slide"
      }
     },
     "source": [
      "## PyGChem"
     ]
    },
    {
     "cell_type": "markdown",
     "metadata": {
      "internals": {
       "frag_helper": "fragment_end",
       "frag_number": 42
      },
      "slideshow": {
       "slide_type": "fragment"
      }
     },
     "source": [
      "- Avoid reinventing the wheel: \"just\" **connect GEOS-Chem to the SciPy Stack** (in a \"pythonic fashion\")"
     ]
    },
    {
     "cell_type": "markdown",
     "metadata": {
      "internals": {
       "frag_helper": "fragment_end",
       "frag_number": 43
      },
      "slideshow": {
       "slide_type": "fragment"
      }
     },
     "source": [
      "![scipy_stack_pygchem](img/scipy_stack_pygchem.svg)"
     ]
    },
    {
     "cell_type": "markdown",
     "metadata": {
      "internals": {
       "frag_helper": "fragment_end",
       "frag_number": 44
      },
      "slideshow": {
       "slide_type": "fragment"
      }
     },
     "source": [
      "- Provide a **consistent, full data model** (and its implementation) for GEOS-Chem outputs and inputs\n",
      "    - not only for datasets (HEMCO settings, globchem, input file...)"
     ]
    },
    {
     "cell_type": "markdown",
     "metadata": {
      "internals": {
       "frag_helper": "fragment_end",
       "frag_number": 45,
       "slide_helper": "subslide_end"
      },
      "slide_helper": "slide_end",
      "slideshow": {
       "slide_type": "fragment"
      }
     },
     "source": [
      "- Provide **access to GEOS-Chem components** from within Python ?\n",
      "    - prototyping, tests..."
     ]
    },
    {
     "cell_type": "markdown",
     "metadata": {
      "internals": {
       "frag_helper": "fragment_end",
       "frag_number": 40,
       "slide_type": "subslide"
      },
      "slideshow": {
       "slide_type": "slide"
      }
     },
     "source": [
      "## Demo\n",
      "\n",
      "[Let's start](index.ipynb)"
     ]
    },
    {
     "cell_type": "markdown",
     "metadata": {
      "internals": {
       "frag_helper": "fragment_end",
       "frag_number": 40,
       "slide_type": "subslide"
      },
      "slideshow": {
       "slide_type": "slide"
      }
     },
     "source": [
      "## On the roadmap\n",
      "\n",
      "- Needs more testing (unit tests)\n",
      "- Compatibility with Python 3.x\n",
      "- Datasets\n",
      "    - CF-Conventions vs. COARDS Conventions ?\n",
      "    - Handling datasets with CDAT (cdms), cf-python, ESMPy ?\n",
      "- Chemistry (KPP format)\n",
      "- Input parameters, managing GC runs\n",
      "\n",
      "\n",
      "- **Suggestions, pull requests and/or issue reports are welcome!!**\n",
      "\n",
      "<https://github.com/benbovy/PyGChem>"
     ]
    }
   ],
   "metadata": {}
  }
 ]
}