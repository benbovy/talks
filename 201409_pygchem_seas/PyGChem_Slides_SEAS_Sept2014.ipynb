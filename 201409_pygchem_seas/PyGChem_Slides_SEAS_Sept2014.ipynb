{
 "metadata": {
  "name": "",
  "signature": "sha256:75d1118e0be4873556941a542ad14833a5affb776e3085a18023e9a5ef5f1f8a"
 },
 "nbformat": 3,
 "nbformat_minor": 0,
 "worksheets": [
  {
   "cells": [
    {
     "cell_type": "markdown",
     "metadata": {
      "internals": {
       "slide_helper": "subslide_end",
       "slide_type": "subslide"
      },
      "slide_helper": "slide_end",
      "slideshow": {
       "slide_type": "slide"
      }
     },
     "source": [
      "# PyGChem\n",
      "\n",
      "## A tentative brigde between GEOS-Chem and the Python Scientific (SciPy) Stack.\n",
      "\n",
      "Beno\u00eet Bovy -- GIRPAS (AGO) Universit\u00e9 de Li\u00e8ge\n",
      "\n",
      "<bbovy@ulg.ac.be> | <https://github.com/benbovy>\n",
      "\n",
      "---------------------------------------\n",
      "\n",
      "SEAS - Harvard (September 2014)"
     ]
    },
    {
     "cell_type": "markdown",
     "metadata": {
      "internals": {
       "slide_type": "subslide"
      },
      "slideshow": {
       "slide_type": "slide"
      }
     },
     "source": [
      "## About myself...\n",
      "\n",
      "- PhD in geosciences (geomorphology)\n",
      "    - Numerical modelling of erosion processes (C/Python dev)\n",
      "- Since 2012 at the InfraRed Group of Atmospheric and Solar Physics (GIRPAS)\n",
      "    - At the same time, the group joined the GC community\n",
      "- Part of my job:\n",
      "    - Set up a computing environment for the modelling tasks\n",
      "    - Facilitating the integration and the use of various softwares (including GC) "
     ]
    },
    {
     "cell_type": "markdown",
     "metadata": {
      "internals": {
       "frag_number": 2,
       "slide_helper": "subslide_end"
      },
      "slide_helper": "slide_end",
      "slideshow": {
       "slide_type": "fragment"
      }
     },
     "source": [
      "<br />\n",
      "<font color='red'>**DISCLAIMER**</font>:\n",
      "- I don't have much experience in running GC simulations (so far)\n",
      "- I'm not a specialist in the field of atmospheric chemistry (so far)\n",
      "- I use Python (and its scientific libraries) a lot in my research"
     ]
    },
    {
     "cell_type": "markdown",
     "metadata": {
      "internals": {
       "frag_helper": "fragment_end",
       "frag_number": 2,
       "slide_helper": "subslide_end",
       "slide_type": "subslide"
      },
      "slide_helper": "subslide_end",
      "slideshow": {
       "slide_type": "slide"
      }
     },
     "source": [
      "## Interacting with GEOS-Chem\n",
      "\n",
      "<br />\n",
      "\n",
      "   \n",
      "![Interact-img](GC-interaction.jpg)"
     ]
    },
    {
     "cell_type": "markdown",
     "metadata": {
      "internals": {
       "frag_helper": "fragment_end",
       "frag_number": 2,
       "slide_type": "subslide"
      },
      "slideshow": {
       "slide_type": "subslide"
      }
     },
     "source": [
      "### GC user-interface: for what purposes?"
     ]
    },
    {
     "cell_type": "markdown",
     "metadata": {
      "internals": {
       "frag_helper": "fragment_end",
       "frag_number": 5
      },
      "slideshow": {
       "slide_type": "fragment"
      }
     },
     "source": [
      "- Pre/post processing, output analysis"
     ]
    },
    {
     "cell_type": "markdown",
     "metadata": {
      "internals": {
       "frag_helper": "fragment_end",
       "frag_number": 6
      },
      "slideshow": {
       "slide_type": "fragment"
      }
     },
     "source": [
      "- Visualization"
     ]
    },
    {
     "cell_type": "markdown",
     "metadata": {
      "internals": {
       "frag_helper": "fragment_end",
       "frag_number": 7
      },
      "slideshow": {
       "slide_type": "fragment"
      }
     },
     "source": [
      "- Run / manage GC simulations"
     ]
    },
    {
     "cell_type": "markdown",
     "metadata": {
      "internals": {
       "frag_helper": "fragment_end",
       "frag_number": 8
      },
      "slideshow": {
       "slide_type": "fragment"
      }
     },
     "source": [
      "- Model development: prototyping, testing"
     ]
    },
    {
     "cell_type": "markdown",
     "metadata": {
      "internals": {
       "frag_helper": "fragment_end",
       "frag_number": 9
      },
      "slideshow": {
       "slide_type": "fragment"
      }
     },
     "source": [
      "- Interfacing with other codes (models, libraries, applications...)"
     ]
    },
    {
     "cell_type": "markdown",
     "metadata": {
      "internals": {
       "frag_helper": "fragment_end",
       "frag_number": 10,
       "slide_helper": "subslide_end"
      },
      "slide_helper": "subslide_end",
      "slideshow": {
       "slide_type": "fragment"
      }
     },
     "source": [
      "- ..."
     ]
    },
    {
     "cell_type": "markdown",
     "metadata": {
      "internals": {
       "frag_helper": "fragment_end",
       "frag_number": 10,
       "slide_type": "subslide"
      },
      "slideshow": {
       "slide_type": "subslide"
      }
     },
     "source": [
      "### GC user-interface: what matters (ideally)?"
     ]
    },
    {
     "cell_type": "markdown",
     "metadata": {
      "internals": {
       "frag_helper": "fragment_end",
       "frag_number": 12
      },
      "slideshow": {
       "slide_type": "fragment"
      }
     },
     "source": [
      "- Interactivity (interactive)"
     ]
    },
    {
     "cell_type": "markdown",
     "metadata": {
      "internals": {
       "frag_helper": "fragment_end",
       "frag_number": 13
      },
      "slideshow": {
       "slide_type": "fragment"
      }
     },
     "source": [
      "- Richness of the computing environment (features)"
     ]
    },
    {
     "cell_type": "markdown",
     "metadata": {
      "internals": {
       "frag_helper": "fragment_end",
       "frag_number": 14
      },
      "slideshow": {
       "slide_type": "fragment"
      }
     },
     "source": [
      "- Ease-of-use, less error-prone (user-friendly)"
     ]
    },
    {
     "cell_type": "markdown",
     "metadata": {
      "internals": {
       "frag_helper": "fragment_end",
       "frag_number": 15
      },
      "slideshow": {
       "slide_type": "fragment"
      }
     },
     "source": [
      "- Public availability (availability)"
     ]
    },
    {
     "cell_type": "markdown",
     "metadata": {
      "internals": {
       "frag_helper": "fragment_end",
       "frag_number": 16
      },
      "slideshow": {
       "slide_type": "fragment"
      }
     },
     "source": [
      "- Hardware / Platform availability (availability)"
     ]
    },
    {
     "cell_type": "markdown",
     "metadata": {
      "internals": {
       "frag_helper": "fragment_end",
       "frag_number": 17
      },
      "slideshow": {
       "slide_type": "fragment"
      }
     },
     "source": [
      "- Interaction with the GC community (collaboration)"
     ]
    },
    {
     "cell_type": "markdown",
     "metadata": {
      "internals": {
       "frag_helper": "fragment_end",
       "frag_number": 18
      },
      "slideshow": {
       "slide_type": "fragment"
      }
     },
     "source": [
      "- Reproducible experiments (reproducibility)"
     ]
    },
    {
     "cell_type": "markdown",
     "metadata": {
      "internals": {
       "frag_helper": "fragment_end",
       "frag_number": 19,
       "slide_helper": "subslide_end"
      },
      "slide_helper": "subslide_end",
      "slideshow": {
       "slide_type": "fragment"
      }
     },
     "source": [
      "- Reliability (maturity)"
     ]
    },
    {
     "cell_type": "markdown",
     "metadata": {
      "internals": {
       "frag_helper": "fragment_end",
       "frag_number": 19,
       "slide_type": "subslide"
      },
      "slideshow": {
       "slide_type": "subslide"
      }
     },
     "source": [
      "### GC user-interface: Existing tools"
     ]
    },
    {
     "cell_type": "markdown",
     "metadata": {
      "internals": {
       "frag_helper": "fragment_end",
       "frag_number": 21
      },
      "slideshow": {
       "slide_type": "fragment"
      }
     },
     "source": [
      "Referenced on the [GEOS-Chem wiki](http://wiki.seas.harvard.edu/geos-chem/index.php/Main_Page):\n",
      "\n",
      "- IDL: GAMAP\n",
      "- NCL: NC4GC\n",
      "- R: a few scripts for dataset analysis\n",
      "- Python: a few packages (mainly for reading bpch files)"
     ]
    },
    {
     "cell_type": "markdown",
     "metadata": {
      "internals": {
       "frag_helper": "fragment_end",
       "frag_number": 22,
       "slide_helper": "subslide_end"
      },
      "slide_helper": "slide_end",
      "slideshow": {
       "slide_type": "fragment"
      }
     },
     "source": [
      "And also:\n",
      "\n",
      "- IDL, R, Matlab, Python, etc...: GC community researchers's own recipes (not collaboration, not reproducibility) "
     ]
    },
    {
     "cell_type": "markdown",
     "metadata": {
      "internals": {
       "frag_helper": "fragment_end",
       "frag_number": 22,
       "slide_helper": "subslide_end",
       "slide_type": "subslide"
      },
      "slide_helper": "subslide_end",
      "slideshow": {
       "slide_type": "slide"
      }
     },
     "source": [
      "## The Python Scientific (SciPy) Stack\n",
      "\n",
      "<br />\n",
      "\n",
      "   \n",
      "![img with python logo and core scipy libs logos](img.jpg)"
     ]
    },
    {
     "cell_type": "markdown",
     "metadata": {
      "internals": {
       "frag_helper": "fragment_end",
       "frag_number": 22,
       "slide_type": "subslide"
      },
      "slideshow": {
       "slide_type": "subslide"
      }
     },
     "source": [
      "### The Python language (and the CPython implementation)"
     ]
    },
    {
     "cell_type": "markdown",
     "metadata": {
      "internals": {
       "frag_helper": "fragment_end",
       "frag_number": 25
      },
      "slideshow": {
       "slide_type": "fragment"
      }
     },
     "source": [
      "- Open-source, cross-platform  (availability)"
     ]
    },
    {
     "cell_type": "markdown",
     "metadata": {
      "internals": {
       "frag_helper": "fragment_end",
       "frag_number": 26
      },
      "slideshow": {
       "slide_type": "fragment"
      }
     },
     "source": [
      "- Language inherent characteristics\n",
      "    - Readability, introspection, multi-paradigm..."
     ]
    },
    {
     "cell_type": "markdown",
     "metadata": {
      "internals": {
       "frag_helper": "fragment_end",
       "frag_number": 27
      },
      "slideshow": {
       "slide_type": "fragment"
      }
     },
     "source": [
      "- Integrates well with other languages (C/C++, Fortran...)"
     ]
    },
    {
     "cell_type": "markdown",
     "metadata": {
      "internals": {
       "frag_helper": "fragment_end",
       "frag_number": 28
      },
      "slideshow": {
       "slide_type": "fragment"
      }
     },
     "source": [
      "- Includes natively a huge number of libraries\n",
      "    - OS, network, web, testing, debugging, profiling, file formats..."
     ]
    },
    {
     "cell_type": "markdown",
     "metadata": {
      "internals": {
       "frag_helper": "fragment_end",
       "frag_number": 29,
       "slide_helper": "subslide_end"
      },
      "slide_helper": "slide_end",
      "slideshow": {
       "slide_type": "fragment"
      }
     },
     "source": [
      "- Very active, growing scientific community "
     ]
    }
   ],
   "metadata": {}
  }
 ]
}